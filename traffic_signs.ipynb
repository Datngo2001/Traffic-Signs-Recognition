{
 "cells": [
  {
   "attachments": {},
   "cell_type": "markdown",
   "metadata": {},
   "source": [
    "Import package"
   ]
  },
  {
   "cell_type": "code",
   "execution_count": 1,
   "metadata": {},
   "outputs": [],
   "source": [
    "import numpy as np \n",
    "import pandas as pd \n",
    "import matplotlib.pyplot as plt\n",
    "import cv2\n",
    "import tensorflow as tf\n",
    "from PIL import Image\n",
    "import os\n",
    "from sklearn.model_selection import train_test_split\n",
    "from keras.utils import to_categorical\n",
    "from keras.models import Sequential, load_model\n",
    "from keras.layers import Conv2D, MaxPool2D, Dense, Flatten, Dropout"
   ]
  },
  {
   "attachments": {},
   "cell_type": "markdown",
   "metadata": {},
   "source": [
    "Global variable\n",
    "- data: all image in array format\n",
    "- labels: labels of images\n",
    "- classes: number of trafic sign type\n",
    "- cur_path: current path of the project"
   ]
  },
  {
   "cell_type": "code",
   "execution_count": 2,
   "metadata": {},
   "outputs": [],
   "source": [
    "data = []\n",
    "labels = []\n",
    "classes = 43\n",
    "cur_path = os.getcwd()"
   ]
  },
  {
   "attachments": {},
   "cell_type": "markdown",
   "metadata": {},
   "source": [
    "Retrieving the images and their labels "
   ]
  },
  {
   "cell_type": "code",
   "execution_count": 4,
   "metadata": {},
   "outputs": [],
   "source": [
    "for i in range(classes):\n",
    "    path = os.path.join(cur_path,'dataset/train',str(i))\n",
    "    imagePaths = os.listdir(path)\n",
    "\n",
    "    for imagePath in imagePaths:\n",
    "        try:\n",
    "            image = Image.open(path + '\\\\'+ imagePath)\n",
    "            image = image.resize((30,30))\n",
    "            image = np.array(image)\n",
    "            #sim = Image.fromarray(image)\n",
    "            data.append(image)\n",
    "            labels.append(i)\n",
    "        except:\n",
    "            print(\"Error loading image\")"
   ]
  },
  {
   "attachments": {},
   "cell_type": "markdown",
   "metadata": {},
   "source": [
    "Converting lists into numpy arrays\n",
    "\n",
    "Output explain:\n",
    "- ({number_of_images}, {image_size}, {image_size}, {image_color_RGB})\n",
    "- ({number_of_images})"
   ]
  },
  {
   "cell_type": "code",
   "execution_count": 6,
   "metadata": {},
   "outputs": [
    {
     "name": "stdout",
     "output_type": "stream",
     "text": [
      "(39209, 30, 30, 3) (39209,)\n"
     ]
    }
   ],
   "source": [
    "data = np.array(data)\n",
    "labels = np.array(labels)\n",
    "\n",
    "print(data.shape, labels.shape)"
   ]
  },
  {
   "attachments": {},
   "cell_type": "markdown",
   "metadata": {},
   "source": [
    "Splitting training and testing dataset"
   ]
  },
  {
   "cell_type": "code",
   "execution_count": 7,
   "metadata": {},
   "outputs": [
    {
     "name": "stdout",
     "output_type": "stream",
     "text": [
      "(31367, 30, 30, 3) (7842, 30, 30, 3) (31367,) (7842,)\n"
     ]
    }
   ],
   "source": [
    "X_train, X_test, y_train, y_test = train_test_split(data, labels, test_size=0.2, random_state=42)\n",
    "\n",
    "print(X_train.shape, X_test.shape, y_train.shape, y_test.shape)"
   ]
  },
  {
   "attachments": {},
   "cell_type": "markdown",
   "metadata": {},
   "source": [
    "Converting the labels into one hot encoding\n",
    "\n",
    "[one-hot encoding explain](https://www.geeksforgeeks.org/ml-one-hot-encoding-of-datasets-in-python/)"
   ]
  },
  {
   "cell_type": "code",
   "execution_count": 8,
   "metadata": {},
   "outputs": [
    {
     "name": "stdout",
     "output_type": "stream",
     "text": [
      "(31367, 43) (7842, 43)\n"
     ]
    }
   ],
   "source": [
    "y_train = to_categorical(y_train, 43)\n",
    "y_test = to_categorical(y_test, 43)\n",
    "\n",
    "print(y_train.shape, y_test.shape)"
   ]
  },
  {
   "attachments": {},
   "cell_type": "markdown",
   "metadata": {},
   "source": [
    "Building the model\n",
    "\n",
    "We are using **CNN** model, which is best for image classification purposes"
   ]
  },
  {
   "cell_type": "code",
   "execution_count": 9,
   "metadata": {},
   "outputs": [],
   "source": [
    "model = Sequential()\n",
    "model.add(Conv2D(filters=32, kernel_size=(5,5), activation='relu', input_shape=X_train.shape[1:]))\n",
    "model.add(Conv2D(filters=32, kernel_size=(5,5), activation='relu'))\n",
    "model.add(MaxPool2D(pool_size=(2, 2)))\n",
    "model.add(Dropout(rate=0.25))\n",
    "model.add(Conv2D(filters=64, kernel_size=(3, 3), activation='relu'))\n",
    "model.add(Conv2D(filters=64, kernel_size=(3, 3), activation='relu'))\n",
    "model.add(MaxPool2D(pool_size=(2, 2)))\n",
    "model.add(Dropout(rate=0.25))\n",
    "model.add(Flatten())\n",
    "model.add(Dense(256, activation='relu'))\n",
    "model.add(Dropout(rate=0.5))\n",
    "model.add(Dense(43, activation='softmax'))"
   ]
  },
  {
   "attachments": {},
   "cell_type": "markdown",
   "metadata": {},
   "source": [
    "Compilation of the model"
   ]
  },
  {
   "cell_type": "code",
   "execution_count": 10,
   "metadata": {},
   "outputs": [
    {
     "name": "stdout",
     "output_type": "stream",
     "text": [
      "Epoch 1/15\n",
      "981/981 [==============================] - 99s 98ms/step - loss: 2.1239 - accuracy: 0.4517 - val_loss: 0.8408 - val_accuracy: 0.7703\n",
      "Epoch 2/15\n",
      "981/981 [==============================] - 91s 93ms/step - loss: 1.0767 - accuracy: 0.6789 - val_loss: 0.6897 - val_accuracy: 0.8389\n",
      "Epoch 3/15\n",
      "981/981 [==============================] - 93s 95ms/step - loss: 0.8285 - accuracy: 0.7477 - val_loss: 0.3678 - val_accuracy: 0.8898\n",
      "Epoch 4/15\n",
      "981/981 [==============================] - 95s 97ms/step - loss: 0.7080 - accuracy: 0.7834 - val_loss: 0.2962 - val_accuracy: 0.9231\n",
      "Epoch 5/15\n",
      "981/981 [==============================] - 97s 99ms/step - loss: 0.6285 - accuracy: 0.8097 - val_loss: 0.2787 - val_accuracy: 0.9214\n",
      "Epoch 6/15\n",
      "981/981 [==============================] - 97s 99ms/step - loss: 0.5729 - accuracy: 0.8264 - val_loss: 0.2546 - val_accuracy: 0.9300\n",
      "Epoch 7/15\n",
      "981/981 [==============================] - 97s 99ms/step - loss: 0.5510 - accuracy: 0.8322 - val_loss: 0.2685 - val_accuracy: 0.9178\n",
      "Epoch 8/15\n",
      "981/981 [==============================] - 97s 99ms/step - loss: 0.5234 - accuracy: 0.8402 - val_loss: 0.2067 - val_accuracy: 0.9403\n",
      "Epoch 9/15\n",
      "981/981 [==============================] - 94s 95ms/step - loss: 0.5101 - accuracy: 0.8442 - val_loss: 0.1943 - val_accuracy: 0.9478\n",
      "Epoch 10/15\n",
      "981/981 [==============================] - 93s 95ms/step - loss: 0.4914 - accuracy: 0.8516 - val_loss: 0.1947 - val_accuracy: 0.9458\n",
      "Epoch 11/15\n",
      "981/981 [==============================] - 95s 96ms/step - loss: 0.4615 - accuracy: 0.8588 - val_loss: 0.1815 - val_accuracy: 0.9513\n",
      "Epoch 12/15\n",
      "981/981 [==============================] - 97s 98ms/step - loss: 0.4660 - accuracy: 0.8598 - val_loss: 0.1634 - val_accuracy: 0.9584\n",
      "Epoch 13/15\n",
      "981/981 [==============================] - 97s 99ms/step - loss: 0.4682 - accuracy: 0.8577 - val_loss: 0.1712 - val_accuracy: 0.9499\n",
      "Epoch 14/15\n",
      "981/981 [==============================] - 92s 94ms/step - loss: 0.4314 - accuracy: 0.8697 - val_loss: 0.1967 - val_accuracy: 0.9387\n",
      "Epoch 15/15\n",
      "981/981 [==============================] - 92s 93ms/step - loss: 0.4310 - accuracy: 0.8705 - val_loss: 0.1642 - val_accuracy: 0.9524\n"
     ]
    }
   ],
   "source": [
    "model.compile(loss='categorical_crossentropy', optimizer='adam', metrics=['accuracy'])\n",
    "\n",
    "epochs = 15\n",
    "history = model.fit(X_train, y_train, batch_size=32, epochs=epochs, validation_data=(X_test, y_test))\n",
    "model.save(\"my_model.h5\")"
   ]
  },
  {
   "attachments": {},
   "cell_type": "markdown",
   "metadata": {},
   "source": [
    "Plotting graphs for accuracy "
   ]
  },
  {
   "cell_type": "code",
   "execution_count": 11,
   "metadata": {},
   "outputs": [
    {
     "data": {
      "image/png": "[encoded data removed]",
      "text/plain": [
       "<Figure size 640x480 with 1 Axes>"
      ]
     },
     "metadata": {},
     "output_type": "display_data"
    },
    {
     "data": {
      "image/png": "[encoded data removed]",
      "text/plain": [
       "<Figure size 640x480 with 1 Axes>"
      ]
     },
     "metadata": {},
     "output_type": "display_data"
    }
   ],
   "source": [
    "plt.figure(0)\n",
    "plt.plot(history.history['accuracy'], label='training accuracy')\n",
    "plt.plot(history.history['val_accuracy'], label='val accuracy')\n",
    "plt.title('Accuracy')\n",
    "plt.xlabel('epochs')\n",
    "plt.ylabel('accuracy')\n",
    "plt.legend()\n",
    "plt.show()\n",
    "\n",
    "plt.figure(1)\n",
    "plt.plot(history.history['loss'], label='training loss')\n",
    "plt.plot(history.history['val_loss'], label='val loss')\n",
    "plt.title('Loss')\n",
    "plt.xlabel('epochs')\n",
    "plt.ylabel('loss')\n",
    "plt.legend()\n",
    "plt.show()"
   ]
  },
  {
   "attachments": {},
   "cell_type": "markdown",
   "metadata": {},
   "source": [
    "Testing accuracy on test dataset"
   ]
  },
  {
   "cell_type": "code",
   "execution_count": 14,
   "metadata": {},
   "outputs": [
    {
     "ename": "AttributeError",
     "evalue": "'Sequential' object has no attribute 'predict_classes'",
     "output_type": "error",
     "traceback": [
      "\u001b[1;31m---------------------------------------------------------------------------\u001b[0m",
      "\u001b[1;31mAttributeError\u001b[0m                            Traceback (most recent call last)",
      "Cell \u001b[1;32mIn[14], line 17\u001b[0m\n\u001b[0;32m     13\u001b[0m     data\u001b[39m.\u001b[39mappend(np\u001b[39m.\u001b[39marray(image))\n\u001b[0;32m     15\u001b[0m X_test\u001b[39m=\u001b[39mnp\u001b[39m.\u001b[39marray(data)\n\u001b[1;32m---> 17\u001b[0m pred \u001b[39m=\u001b[39m model\u001b[39m.\u001b[39;49mpredict_classes(X_test)\n",
      "\u001b[1;31mAttributeError\u001b[0m: 'Sequential' object has no attribute 'predict_classes'"
     ]
    }
   ],
   "source": [
    "from sklearn.metrics import accuracy_score\n",
    "\n",
    "y_test = pd.read_csv('dataset/Test.csv')\n",
    "\n",
    "labels = y_test[\"ClassId\"].values\n",
    "imgs = y_test[\"Path\"].values\n",
    "\n",
    "data=[]\n",
    "\n",
    "for img in imgs:\n",
    "    image = Image.open(\"dataset/\" + img)\n",
    "    image = image.resize((30,30))\n",
    "    data.append(np.array(image))\n",
    "\n",
    "X_test=np.array(data)\n",
    "\n",
    "pred = model.predict_classes(X_test)"
   ]
  },
  {
   "attachments": {},
   "cell_type": "markdown",
   "metadata": {},
   "source": [
    "Accuracy with the test data"
   ]
  },
  {
   "cell_type": "code",
   "execution_count": null,
   "metadata": {},
   "outputs": [],
   "source": [
    "from sklearn.metrics import accuracy_score\n",
    "print(accuracy_score(labels, pred))"
   ]
  }
 ],
 "metadata": {
  "kernelspec": {
   "display_name": "Python 3",
   "language": "python",
   "name": "python3"
  },
  "language_info": {
   "codemirror_mode": {
    "name": "ipython",
    "version": 3
   },
   "file_extension": ".py",
   "mimetype": "text/x-python",
   "name": "python",
   "nbconvert_exporter": "python",
   "pygments_lexer": "ipython3",
   "version": "3.11.3"
  },
  "orig_nbformat": 4
 },
 "nbformat": 4,
 "nbformat_minor": 2
}
